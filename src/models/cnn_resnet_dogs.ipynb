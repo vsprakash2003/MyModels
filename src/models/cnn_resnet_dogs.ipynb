{
 "cells": [
  {
   "cell_type": "markdown",
   "metadata": {},
   "source": [
    "## Manually computing AdaBoost"
   ]
  },
  {
   "cell_type": "code",
   "execution_count": 102,
   "metadata": {},
   "outputs": [],
   "source": [
    "import numpy as np"
   ]
  },
  {
   "cell_type": "markdown",
   "metadata": {},
   "source": [
    "### AdaBoost is best for classification problem. Here the output is +1 or -1 as part of a decision tree"
   ]
  },
  {
   "cell_type": "code",
   "execution_count": 103,
   "metadata": {},
   "outputs": [
    {
     "name": "stdout",
     "output_type": "stream",
     "text": [
      "[ 0.1  0.2  0.3  0.4  0.5  0.6  0.7  0.8  0.9  1. ]\n",
      "[ 1  1  1  1 -1 -1 -1  1  1  1]\n",
      "[ 0.1  0.1  0.1  0.1  0.1  0.1  0.1  0.1  0.1  0.1]\n"
     ]
    }
   ],
   "source": [
    "rng = np.random.RandomState(0)\n",
    "X = np.arange(0.1,1.01,0.1)  # create a numpy array\n",
    "y = np.asanyarray([1, 1, 1, 1, -1, -1, -1, 1, 1, 1]) #asanyarray does not copy an array unlike np.array\n",
    "D = np.ones_like(X)/ X.size #ones_like creates 1s with the same size and shape of X\n",
    "\n",
    "print(X)\n",
    "print(y)\n",
    "print(D)"
   ]
  },
  {
   "cell_type": "code",
   "execution_count": null,
   "metadata": {},
   "outputs": [],
   "source": []
  },
  {
   "cell_type": "code",
   "execution_count": 104,
   "metadata": {},
   "outputs": [
    {
     "name": "stdout",
     "output_type": "stream",
     "text": [
      "[ 0.4  0.5  0.5  0.6  0.6  0.7  0.7  0.8  0.9  1. ]\n",
      "[ 1 -1 -1 -1 -1 -1 -1  1  1  1]\n"
     ]
    }
   ],
   "source": [
    "idx = rng.choice(10, size=(X.size,), p=D) #choice generates a random sample from given 1-D array. Here p is probability\n",
    "idx.sort()\n",
    "X_ = X[idx]\n",
    "y_ = y[idx]\n",
    "\n",
    "print(X_)\n",
    "print(y_)"
   ]
  },
  {
   "cell_type": "markdown",
   "metadata": {},
   "source": [
    "## $ \\alpha = 0.5 \\log \\frac{1 - \\epsilon ^ *} {\\epsilon ^ *} $  <nbsp><em>Here epsilon is the weighted error</em></nbsp>"
   ]
  },
  {
   "cell_type": "code",
   "execution_count": 105,
   "metadata": {},
   "outputs": [
    {
     "name": "stdout",
     "output_type": "stream",
     "text": [
      "y is          [1, 1, 1, 1, -1, -1, -1, 1, 1, 1]\n",
      "prediction is [-1, -1, -1, -1, -1, -1, -1, 1, 1, 1]\n",
      "Are predicted values and y the same? [ 0.  0.  0.  0.  1.  1.  1.  1.  1.  1.]\n",
      "D values are here                      [ 0.1  0.1  0.1  0.1  0.1  0.1  0.1  0.1  0.1  0.1]\n"
     ]
    }
   ],
   "source": [
    "predictor_1 = lambda a: 1 if a >= 0.75 else -1 #lambda is like an anonymous function\n",
    "output_1 = list(map(predictor_1, X))\n",
    "is_correct = np.asanyarray(output_1 == y).astype(np.float)\n",
    "\n",
    "print(\"y is         \", list(y))\n",
    "print(\"prediction is\", output_1)\n",
    "print(\"Are predicted values and y the same?\", is_correct)\n",
    "print(\"D values are here                     \", D)"
   ]
  },
  {
   "cell_type": "markdown",
   "metadata": {},
   "source": [
    "## Error"
   ]
  },
  {
   "cell_type": "markdown",
   "metadata": {},
   "source": [
    " $$ \\epsilon = \\frac{\\bar y_i * D_i}{\\sum D_i}   $$"
   ]
  },
  {
   "cell_type": "code",
   "execution_count": 106,
   "metadata": {},
   "outputs": [
    {
     "name": "stdout",
     "output_type": "stream",
     "text": [
      "0.4\n",
      "0.202732554054\n"
     ]
    }
   ],
   "source": [
    "eps_1 = ((1.0 - is_correct) * D).sum() #here 1 - is_correct = error. This has to be done elementwise\n",
    "alpha_1 = 0.5 * np.log((1 - eps_1) / eps_1)\n",
    "print(eps_1)\n",
    "print(alpha_1)"
   ]
  },
  {
   "cell_type": "markdown",
   "metadata": {},
   "source": [
    "## $ D_{t+1} (x) \\rightarrow D_t(x)  \\exp (\\pm \\alpha_t) $\n",
    "\n",
    "## Correctly classified samples will have low weights while misclassified samples will have higher weights"
   ]
  },
  {
   "cell_type": "code",
   "execution_count": 107,
   "metadata": {},
   "outputs": [
    {
     "name": "stdout",
     "output_type": "stream",
     "text": [
      "[ 1.  1.  1.  1. -1. -1. -1. -1. -1. -1.]\n",
      "[ 0.12247449  0.12247449  0.12247449  0.12247449  0.08164966  0.08164966\n",
      "  0.08164966  0.08164966  0.08164966  0.08164966]\n"
     ]
    }
   ],
   "source": [
    "sample_signs_1 = (0.5 - is_correct) * 2.0\n",
    "print(sample_signs_1)\n",
    "D = D * np.exp(sample_signs_1 * alpha_1)\n",
    "print(D)"
   ]
  },
  {
   "cell_type": "code",
   "execution_count": 111,
   "metadata": {},
   "outputs": [
    {
     "name": "stdout",
     "output_type": "stream",
     "text": [
      "[ 0.125       0.125       0.125       0.125       0.08333333  0.08333333\n",
      "  0.08333333  0.08333333  0.08333333  0.08333333]\n",
      "1.0\n"
     ]
    }
   ],
   "source": [
    "D /= D.sum()\n",
    "print(D)\n",
    "print(D.sum())"
   ]
  },
  {
   "cell_type": "code",
   "execution_count": null,
   "metadata": {},
   "outputs": [],
   "source": []
  }
 ],
 "metadata": {
  "kernelspec": {
   "display_name": "Python 3",
   "language": "python",
   "name": "python3"
  },
  "language_info": {
   "codemirror_mode": {
    "name": "ipython",
    "version": 3
   },
   "file_extension": ".py",
   "mimetype": "text/x-python",
   "name": "python",
   "nbconvert_exporter": "python",
   "pygments_lexer": "ipython3",
   "version": "3.6.3"
  }
 },
 "nbformat": 4,
 "nbformat_minor": 2
}
